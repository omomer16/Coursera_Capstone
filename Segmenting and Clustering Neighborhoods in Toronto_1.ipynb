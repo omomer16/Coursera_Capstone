{
 "cells": [
  {
   "cell_type": "markdown",
   "metadata": {},
   "source": [
    "# IBM Applied Data Science Capstone\n",
    "### Segmenting and Clustering Neighborhoods in Toronto\n",
    "<br>\n",
    "In this assignment, you will be required to explore, segment, and cluster the neighborhoods in the city of Toronto."
   ]
  },
  {
   "cell_type": "code",
   "execution_count": null,
   "metadata": {},
   "outputs": [],
   "source": [
    "import numpy as np # library to handle data in a vectorized manner\n",
    "\n",
    "import pandas as pd # library for data analsysis\n",
    "\n",
    "import requests \n",
    "\n",
    "#from bs4 import BeautifulSoup as BS\n",
    "\n",
    "print('Libraries imported.')\n",
    "\n",
    "url=\"https://en.wikipedia.org/wiki/List_of_postal_codes_of_Canada:_M\"\n",
    "data_url=requests.get(url).text\n",
    "#parse data from the html \n",
    "df, = pd.read_html(data_url, match=\"Postal code\", skiprows=1)\n",
    "#create columns\n",
    "columns=[\"PostalCode\", \"Borough\", \"Neighborhood\"]\n",
    "df.columns=columns\n",
    "\n",
    "#delete not assigned \n",
    "df = df[df[\"Borough\"] != \"Not assigned\"].reset_index(drop=True)\n",
    "\n",
    "# group neighborhoods in the same borough\n",
    "df_group = df.groupby([\"PostalCode\", \"Borough\"], as_index=False).agg(lambda x: \", \".join(x))\n",
    "\n",
    "\n",
    "# check Neighborhood=\"Not assigned\", make the value the same as Borough\n",
    "df_group[df_group[\"Neighborhood\"] == \"Not assigned\"]\n",
    "\n",
    "df_group.shape\n",
    "       \n"
   ]
  }
 ],
 "metadata": {
  "kernelspec": {
   "display_name": "Python 3",
   "language": "python",
   "name": "python3"
  },
  "language_info": {
   "codemirror_mode": {
    "name": "ipython",
    "version": 3
   },
   "file_extension": ".py",
   "mimetype": "text/x-python",
   "name": "python",
   "nbconvert_exporter": "python",
   "pygments_lexer": "ipython3",
   "version": "3.7.2"
  }
 },
 "nbformat": 4,
 "nbformat_minor": 2
}
